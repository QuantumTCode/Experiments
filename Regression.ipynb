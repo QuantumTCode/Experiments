{
  "nbformat": 4,
  "nbformat_minor": 0,
  "metadata": {
    "colab": {
      "name": "Untitled6.ipynb",
      "version": "0.3.2",
      "provenance": []
    },
    "kernelspec": {
      "name": "python3",
      "display_name": "Python 3"
    },
    "accelerator": "GPU"
  },
  "cells": [
    {
      "metadata": {
        "id": "dhPaNPKqTSBJ",
        "colab_type": "code",
        "colab": {}
      },
      "cell_type": "code",
      "source": [
        "from __future__ import absolute_import, division, print_function\n",
        "\n",
        "import tensorflow as tf\n",
        "\n",
        "from tensorflow import keras\n",
        "\n",
        "import numpy as np"
      ],
      "execution_count": 0,
      "outputs": []
    },
    {
      "metadata": {
        "id": "YFzNC-2JTfvg",
        "colab_type": "code",
        "colab": {}
      },
      "cell_type": "code",
      "source": [
        "data=keras.datasets.boston_housing\n",
        "\n",
        "(xtrain,ytrain),(xtest,ytest)=data.load_data()\n",
        "\n",
        "order = np.argsort(np.random.random(ytrain.shape))"
      ],
      "execution_count": 0,
      "outputs": []
    },
    {
      "metadata": {
        "id": "JaZMb1CPT3D8",
        "colab_type": "code",
        "colab": {}
      },
      "cell_type": "code",
      "source": [
        "xtrain=xtrain[order]\n",
        "ytrain=ytrain[order]"
      ],
      "execution_count": 0,
      "outputs": []
    },
    {
      "metadata": {
        "id": "EeB1IkccUAst",
        "colab_type": "code",
        "colab": {
          "base_uri": "https://localhost:8080/",
          "height": 224
        },
        "outputId": "c121153e-1feb-434a-ca6d-1b4ef21865c7"
      },
      "cell_type": "code",
      "source": [
        "import pandas as pd\n",
        "column_names = ['CRIM', 'ZN', 'INDUS', 'CHAS', 'NOX', 'RM', 'AGE', 'DIS', 'RAD',\n",
        "                'TAX', 'PTRATIO', 'B', 'LSTAT']\n",
        "\n",
        "\n",
        "df = pd.DataFrame(xtrain, columns=column_names)\n",
        "\n",
        "df.head()\n",
        "\n"
      ],
      "execution_count": 18,
      "outputs": [
        {
          "output_type": "execute_result",
          "data": {
            "text/html": [
              "<div>\n",
              "<style scoped>\n",
              "    .dataframe tbody tr th:only-of-type {\n",
              "        vertical-align: middle;\n",
              "    }\n",
              "\n",
              "    .dataframe tbody tr th {\n",
              "        vertical-align: top;\n",
              "    }\n",
              "\n",
              "    .dataframe thead th {\n",
              "        text-align: right;\n",
              "    }\n",
              "</style>\n",
              "<table border=\"1\" class=\"dataframe\">\n",
              "  <thead>\n",
              "    <tr style=\"text-align: right;\">\n",
              "      <th></th>\n",
              "      <th>CRIM</th>\n",
              "      <th>ZN</th>\n",
              "      <th>INDUS</th>\n",
              "      <th>CHAS</th>\n",
              "      <th>NOX</th>\n",
              "      <th>RM</th>\n",
              "      <th>AGE</th>\n",
              "      <th>DIS</th>\n",
              "      <th>RAD</th>\n",
              "      <th>TAX</th>\n",
              "      <th>PTRATIO</th>\n",
              "      <th>B</th>\n",
              "      <th>LSTAT</th>\n",
              "    </tr>\n",
              "  </thead>\n",
              "  <tbody>\n",
              "    <tr>\n",
              "      <th>0</th>\n",
              "      <td>0.07875</td>\n",
              "      <td>45.0</td>\n",
              "      <td>3.44</td>\n",
              "      <td>0.0</td>\n",
              "      <td>0.437</td>\n",
              "      <td>6.782</td>\n",
              "      <td>41.1</td>\n",
              "      <td>3.7886</td>\n",
              "      <td>5.0</td>\n",
              "      <td>398.0</td>\n",
              "      <td>15.2</td>\n",
              "      <td>393.87</td>\n",
              "      <td>6.68</td>\n",
              "    </tr>\n",
              "    <tr>\n",
              "      <th>1</th>\n",
              "      <td>4.55587</td>\n",
              "      <td>0.0</td>\n",
              "      <td>18.10</td>\n",
              "      <td>0.0</td>\n",
              "      <td>0.718</td>\n",
              "      <td>3.561</td>\n",
              "      <td>87.9</td>\n",
              "      <td>1.6132</td>\n",
              "      <td>24.0</td>\n",
              "      <td>666.0</td>\n",
              "      <td>20.2</td>\n",
              "      <td>354.70</td>\n",
              "      <td>7.12</td>\n",
              "    </tr>\n",
              "    <tr>\n",
              "      <th>2</th>\n",
              "      <td>0.09604</td>\n",
              "      <td>40.0</td>\n",
              "      <td>6.41</td>\n",
              "      <td>0.0</td>\n",
              "      <td>0.447</td>\n",
              "      <td>6.854</td>\n",
              "      <td>42.8</td>\n",
              "      <td>4.2673</td>\n",
              "      <td>4.0</td>\n",
              "      <td>254.0</td>\n",
              "      <td>17.6</td>\n",
              "      <td>396.90</td>\n",
              "      <td>2.98</td>\n",
              "    </tr>\n",
              "    <tr>\n",
              "      <th>3</th>\n",
              "      <td>0.01870</td>\n",
              "      <td>85.0</td>\n",
              "      <td>4.15</td>\n",
              "      <td>0.0</td>\n",
              "      <td>0.429</td>\n",
              "      <td>6.516</td>\n",
              "      <td>27.7</td>\n",
              "      <td>8.5353</td>\n",
              "      <td>4.0</td>\n",
              "      <td>351.0</td>\n",
              "      <td>17.9</td>\n",
              "      <td>392.43</td>\n",
              "      <td>6.36</td>\n",
              "    </tr>\n",
              "    <tr>\n",
              "      <th>4</th>\n",
              "      <td>0.52693</td>\n",
              "      <td>0.0</td>\n",
              "      <td>6.20</td>\n",
              "      <td>0.0</td>\n",
              "      <td>0.504</td>\n",
              "      <td>8.725</td>\n",
              "      <td>83.0</td>\n",
              "      <td>2.8944</td>\n",
              "      <td>8.0</td>\n",
              "      <td>307.0</td>\n",
              "      <td>17.4</td>\n",
              "      <td>382.00</td>\n",
              "      <td>4.63</td>\n",
              "    </tr>\n",
              "  </tbody>\n",
              "</table>\n",
              "</div>"
            ],
            "text/plain": [
              "      CRIM    ZN  INDUS  CHAS    NOX     RM   AGE     DIS   RAD    TAX  \\\n",
              "0  0.07875  45.0   3.44   0.0  0.437  6.782  41.1  3.7886   5.0  398.0   \n",
              "1  4.55587   0.0  18.10   0.0  0.718  3.561  87.9  1.6132  24.0  666.0   \n",
              "2  0.09604  40.0   6.41   0.0  0.447  6.854  42.8  4.2673   4.0  254.0   \n",
              "3  0.01870  85.0   4.15   0.0  0.429  6.516  27.7  8.5353   4.0  351.0   \n",
              "4  0.52693   0.0   6.20   0.0  0.504  8.725  83.0  2.8944   8.0  307.0   \n",
              "\n",
              "   PTRATIO       B  LSTAT  \n",
              "0     15.2  393.87   6.68  \n",
              "1     20.2  354.70   7.12  \n",
              "2     17.6  396.90   2.98  \n",
              "3     17.9  392.43   6.36  \n",
              "4     17.4  382.00   4.63  "
            ]
          },
          "metadata": {
            "tags": []
          },
          "execution_count": 18
        }
      ]
    },
    {
      "metadata": {
        "id": "dXc-RDuNUJrY",
        "colab_type": "code",
        "colab": {
          "base_uri": "https://localhost:8080/",
          "height": 452
        },
        "outputId": "fc766135-f79f-4174-adbe-c1ce813d5518"
      },
      "cell_type": "code",
      "source": [
        "df.corr()"
      ],
      "execution_count": 19,
      "outputs": [
        {
          "output_type": "execute_result",
          "data": {
            "text/html": [
              "<div>\n",
              "<style scoped>\n",
              "    .dataframe tbody tr th:only-of-type {\n",
              "        vertical-align: middle;\n",
              "    }\n",
              "\n",
              "    .dataframe tbody tr th {\n",
              "        vertical-align: top;\n",
              "    }\n",
              "\n",
              "    .dataframe thead th {\n",
              "        text-align: right;\n",
              "    }\n",
              "</style>\n",
              "<table border=\"1\" class=\"dataframe\">\n",
              "  <thead>\n",
              "    <tr style=\"text-align: right;\">\n",
              "      <th></th>\n",
              "      <th>CRIM</th>\n",
              "      <th>ZN</th>\n",
              "      <th>INDUS</th>\n",
              "      <th>CHAS</th>\n",
              "      <th>NOX</th>\n",
              "      <th>RM</th>\n",
              "      <th>AGE</th>\n",
              "      <th>DIS</th>\n",
              "      <th>RAD</th>\n",
              "      <th>TAX</th>\n",
              "      <th>PTRATIO</th>\n",
              "      <th>B</th>\n",
              "      <th>LSTAT</th>\n",
              "    </tr>\n",
              "  </thead>\n",
              "  <tbody>\n",
              "    <tr>\n",
              "      <th>CRIM</th>\n",
              "      <td>1.000000</td>\n",
              "      <td>-0.192179</td>\n",
              "      <td>0.397419</td>\n",
              "      <td>-0.050828</td>\n",
              "      <td>0.405765</td>\n",
              "      <td>-0.217597</td>\n",
              "      <td>0.344410</td>\n",
              "      <td>-0.378590</td>\n",
              "      <td>0.609689</td>\n",
              "      <td>0.575652</td>\n",
              "      <td>0.273447</td>\n",
              "      <td>-0.390613</td>\n",
              "      <td>0.434384</td>\n",
              "    </tr>\n",
              "    <tr>\n",
              "      <th>ZN</th>\n",
              "      <td>-0.192179</td>\n",
              "      <td>1.000000</td>\n",
              "      <td>-0.533823</td>\n",
              "      <td>-0.041981</td>\n",
              "      <td>-0.521713</td>\n",
              "      <td>0.338683</td>\n",
              "      <td>-0.578728</td>\n",
              "      <td>0.650787</td>\n",
              "      <td>-0.311091</td>\n",
              "      <td>-0.303522</td>\n",
              "      <td>-0.403139</td>\n",
              "      <td>0.176006</td>\n",
              "      <td>-0.415237</td>\n",
              "    </tr>\n",
              "    <tr>\n",
              "      <th>INDUS</th>\n",
              "      <td>0.397419</td>\n",
              "      <td>-0.533823</td>\n",
              "      <td>1.000000</td>\n",
              "      <td>0.052839</td>\n",
              "      <td>0.774200</td>\n",
              "      <td>-0.409924</td>\n",
              "      <td>0.656350</td>\n",
              "      <td>-0.725155</td>\n",
              "      <td>0.599226</td>\n",
              "      <td>0.701362</td>\n",
              "      <td>0.379284</td>\n",
              "      <td>-0.372885</td>\n",
              "      <td>0.603129</td>\n",
              "    </tr>\n",
              "    <tr>\n",
              "      <th>CHAS</th>\n",
              "      <td>-0.050828</td>\n",
              "      <td>-0.041981</td>\n",
              "      <td>0.052839</td>\n",
              "      <td>1.000000</td>\n",
              "      <td>0.079803</td>\n",
              "      <td>0.040431</td>\n",
              "      <td>0.080488</td>\n",
              "      <td>-0.083101</td>\n",
              "      <td>-0.024851</td>\n",
              "      <td>-0.051343</td>\n",
              "      <td>-0.122008</td>\n",
              "      <td>0.037832</td>\n",
              "      <td>-0.011017</td>\n",
              "    </tr>\n",
              "    <tr>\n",
              "      <th>NOX</th>\n",
              "      <td>0.405765</td>\n",
              "      <td>-0.521713</td>\n",
              "      <td>0.774200</td>\n",
              "      <td>0.079803</td>\n",
              "      <td>1.000000</td>\n",
              "      <td>-0.335866</td>\n",
              "      <td>0.729338</td>\n",
              "      <td>-0.777062</td>\n",
              "      <td>0.616535</td>\n",
              "      <td>0.673471</td>\n",
              "      <td>0.188160</td>\n",
              "      <td>-0.409479</td>\n",
              "      <td>0.592994</td>\n",
              "    </tr>\n",
              "    <tr>\n",
              "      <th>RM</th>\n",
              "      <td>-0.217597</td>\n",
              "      <td>0.338683</td>\n",
              "      <td>-0.409924</td>\n",
              "      <td>0.040431</td>\n",
              "      <td>-0.335866</td>\n",
              "      <td>1.000000</td>\n",
              "      <td>-0.240875</td>\n",
              "      <td>0.233970</td>\n",
              "      <td>-0.243990</td>\n",
              "      <td>-0.307904</td>\n",
              "      <td>-0.367256</td>\n",
              "      <td>0.145525</td>\n",
              "      <td>-0.610844</td>\n",
              "    </tr>\n",
              "    <tr>\n",
              "      <th>AGE</th>\n",
              "      <td>0.344410</td>\n",
              "      <td>-0.578728</td>\n",
              "      <td>0.656350</td>\n",
              "      <td>0.080488</td>\n",
              "      <td>0.729338</td>\n",
              "      <td>-0.240875</td>\n",
              "      <td>1.000000</td>\n",
              "      <td>-0.766670</td>\n",
              "      <td>0.462188</td>\n",
              "      <td>0.512746</td>\n",
              "      <td>0.282193</td>\n",
              "      <td>-0.278403</td>\n",
              "      <td>0.590898</td>\n",
              "    </tr>\n",
              "    <tr>\n",
              "      <th>DIS</th>\n",
              "      <td>-0.378590</td>\n",
              "      <td>0.650787</td>\n",
              "      <td>-0.725155</td>\n",
              "      <td>-0.083101</td>\n",
              "      <td>-0.777062</td>\n",
              "      <td>0.233970</td>\n",
              "      <td>-0.766670</td>\n",
              "      <td>1.000000</td>\n",
              "      <td>-0.511179</td>\n",
              "      <td>-0.543668</td>\n",
              "      <td>-0.243067</td>\n",
              "      <td>0.295995</td>\n",
              "      <td>-0.507075</td>\n",
              "    </tr>\n",
              "    <tr>\n",
              "      <th>RAD</th>\n",
              "      <td>0.609689</td>\n",
              "      <td>-0.311091</td>\n",
              "      <td>0.599226</td>\n",
              "      <td>-0.024851</td>\n",
              "      <td>0.616535</td>\n",
              "      <td>-0.243990</td>\n",
              "      <td>0.462188</td>\n",
              "      <td>-0.511179</td>\n",
              "      <td>1.000000</td>\n",
              "      <td>0.922676</td>\n",
              "      <td>0.449908</td>\n",
              "      <td>-0.478245</td>\n",
              "      <td>0.490250</td>\n",
              "    </tr>\n",
              "    <tr>\n",
              "      <th>TAX</th>\n",
              "      <td>0.575652</td>\n",
              "      <td>-0.303522</td>\n",
              "      <td>0.701362</td>\n",
              "      <td>-0.051343</td>\n",
              "      <td>0.673471</td>\n",
              "      <td>-0.307904</td>\n",
              "      <td>0.512746</td>\n",
              "      <td>-0.543668</td>\n",
              "      <td>0.922676</td>\n",
              "      <td>1.000000</td>\n",
              "      <td>0.440499</td>\n",
              "      <td>-0.471777</td>\n",
              "      <td>0.534752</td>\n",
              "    </tr>\n",
              "    <tr>\n",
              "      <th>PTRATIO</th>\n",
              "      <td>0.273447</td>\n",
              "      <td>-0.403139</td>\n",
              "      <td>0.379284</td>\n",
              "      <td>-0.122008</td>\n",
              "      <td>0.188160</td>\n",
              "      <td>-0.367256</td>\n",
              "      <td>0.282193</td>\n",
              "      <td>-0.243067</td>\n",
              "      <td>0.449908</td>\n",
              "      <td>0.440499</td>\n",
              "      <td>1.000000</td>\n",
              "      <td>-0.178060</td>\n",
              "      <td>0.365873</td>\n",
              "    </tr>\n",
              "    <tr>\n",
              "      <th>B</th>\n",
              "      <td>-0.390613</td>\n",
              "      <td>0.176006</td>\n",
              "      <td>-0.372885</td>\n",
              "      <td>0.037832</td>\n",
              "      <td>-0.409479</td>\n",
              "      <td>0.145525</td>\n",
              "      <td>-0.278403</td>\n",
              "      <td>0.295995</td>\n",
              "      <td>-0.478245</td>\n",
              "      <td>-0.471777</td>\n",
              "      <td>-0.178060</td>\n",
              "      <td>1.000000</td>\n",
              "      <td>-0.376081</td>\n",
              "    </tr>\n",
              "    <tr>\n",
              "      <th>LSTAT</th>\n",
              "      <td>0.434384</td>\n",
              "      <td>-0.415237</td>\n",
              "      <td>0.603129</td>\n",
              "      <td>-0.011017</td>\n",
              "      <td>0.592994</td>\n",
              "      <td>-0.610844</td>\n",
              "      <td>0.590898</td>\n",
              "      <td>-0.507075</td>\n",
              "      <td>0.490250</td>\n",
              "      <td>0.534752</td>\n",
              "      <td>0.365873</td>\n",
              "      <td>-0.376081</td>\n",
              "      <td>1.000000</td>\n",
              "    </tr>\n",
              "  </tbody>\n",
              "</table>\n",
              "</div>"
            ],
            "text/plain": [
              "             CRIM        ZN     INDUS      CHAS       NOX        RM       AGE  \\\n",
              "CRIM     1.000000 -0.192179  0.397419 -0.050828  0.405765 -0.217597  0.344410   \n",
              "ZN      -0.192179  1.000000 -0.533823 -0.041981 -0.521713  0.338683 -0.578728   \n",
              "INDUS    0.397419 -0.533823  1.000000  0.052839  0.774200 -0.409924  0.656350   \n",
              "CHAS    -0.050828 -0.041981  0.052839  1.000000  0.079803  0.040431  0.080488   \n",
              "NOX      0.405765 -0.521713  0.774200  0.079803  1.000000 -0.335866  0.729338   \n",
              "RM      -0.217597  0.338683 -0.409924  0.040431 -0.335866  1.000000 -0.240875   \n",
              "AGE      0.344410 -0.578728  0.656350  0.080488  0.729338 -0.240875  1.000000   \n",
              "DIS     -0.378590  0.650787 -0.725155 -0.083101 -0.777062  0.233970 -0.766670   \n",
              "RAD      0.609689 -0.311091  0.599226 -0.024851  0.616535 -0.243990  0.462188   \n",
              "TAX      0.575652 -0.303522  0.701362 -0.051343  0.673471 -0.307904  0.512746   \n",
              "PTRATIO  0.273447 -0.403139  0.379284 -0.122008  0.188160 -0.367256  0.282193   \n",
              "B       -0.390613  0.176006 -0.372885  0.037832 -0.409479  0.145525 -0.278403   \n",
              "LSTAT    0.434384 -0.415237  0.603129 -0.011017  0.592994 -0.610844  0.590898   \n",
              "\n",
              "              DIS       RAD       TAX   PTRATIO         B     LSTAT  \n",
              "CRIM    -0.378590  0.609689  0.575652  0.273447 -0.390613  0.434384  \n",
              "ZN       0.650787 -0.311091 -0.303522 -0.403139  0.176006 -0.415237  \n",
              "INDUS   -0.725155  0.599226  0.701362  0.379284 -0.372885  0.603129  \n",
              "CHAS    -0.083101 -0.024851 -0.051343 -0.122008  0.037832 -0.011017  \n",
              "NOX     -0.777062  0.616535  0.673471  0.188160 -0.409479  0.592994  \n",
              "RM       0.233970 -0.243990 -0.307904 -0.367256  0.145525 -0.610844  \n",
              "AGE     -0.766670  0.462188  0.512746  0.282193 -0.278403  0.590898  \n",
              "DIS      1.000000 -0.511179 -0.543668 -0.243067  0.295995 -0.507075  \n",
              "RAD     -0.511179  1.000000  0.922676  0.449908 -0.478245  0.490250  \n",
              "TAX     -0.543668  0.922676  1.000000  0.440499 -0.471777  0.534752  \n",
              "PTRATIO -0.243067  0.449908  0.440499  1.000000 -0.178060  0.365873  \n",
              "B        0.295995 -0.478245 -0.471777 -0.178060  1.000000 -0.376081  \n",
              "LSTAT   -0.507075  0.490250  0.534752  0.365873 -0.376081  1.000000  "
            ]
          },
          "metadata": {
            "tags": []
          },
          "execution_count": 19
        }
      ]
    },
    {
      "metadata": {
        "id": "4A1iUj054m_q",
        "colab_type": "code",
        "colab": {}
      },
      "cell_type": "code",
      "source": [
        "mean=xtrain.mean(axis=0)\n",
        "std=xtrain.mean(axis=0)\n",
        "\n",
        "xtrain = (xtrain-mean)/std\n",
        "\n",
        "xtest = (xtest-mean)/std\n"
      ],
      "execution_count": 0,
      "outputs": []
    },
    {
      "metadata": {
        "id": "jrHLqTAc6Tpc",
        "colab_type": "code",
        "colab": {}
      },
      "cell_type": "code",
      "source": [
        "def build_model():\n",
        "  model = keras.Sequential([\n",
        "      keras.layers.Dense(64, activation=tf.nn.relu,input_shape=(xtrain.shape[1],)),\n",
        "      keras.layers.Dense(64, activation=tf.nn.relu),\n",
        "      keras.layers.Dense(1)\n",
        "    ])\n",
        "  model.compile(loss=\"mse\",optimizer='adam',metrics=['mae'])\n",
        "  return model\n"
      ],
      "execution_count": 0,
      "outputs": []
    },
    {
      "metadata": {
        "id": "s5MT3J4S7ygj",
        "colab_type": "code",
        "colab": {
          "base_uri": "https://localhost:8080/",
          "height": 238
        },
        "outputId": "c385f9fa-bac6-4ffb-aad2-742f9d32276a"
      },
      "cell_type": "code",
      "source": [
        "model=build_model()\n",
        "model.summary()"
      ],
      "execution_count": 22,
      "outputs": [
        {
          "output_type": "stream",
          "text": [
            "_________________________________________________________________\n",
            "Layer (type)                 Output Shape              Param #   \n",
            "=================================================================\n",
            "dense_3 (Dense)              (None, 64)                896       \n",
            "_________________________________________________________________\n",
            "dense_4 (Dense)              (None, 64)                4160      \n",
            "_________________________________________________________________\n",
            "dense_5 (Dense)              (None, 1)                 65        \n",
            "=================================================================\n",
            "Total params: 5,121\n",
            "Trainable params: 5,121\n",
            "Non-trainable params: 0\n",
            "_________________________________________________________________\n"
          ],
          "name": "stdout"
        }
      ]
    },
    {
      "metadata": {
        "id": "-mTE-gqG77H-",
        "colab_type": "code",
        "colab": {}
      },
      "cell_type": "code",
      "source": [
        "history = model.fit(xtrain,ytrain,epochs=10000, validation_split=0.1,verbose=0,batch_size=404)"
      ],
      "execution_count": 0,
      "outputs": []
    },
    {
      "metadata": {
        "id": "MP3TeGES8MrT",
        "colab_type": "code",
        "colab": {
          "base_uri": "https://localhost:8080/",
          "height": 365
        },
        "outputId": "83d35ae3-f8b1-4e37-e862-41c7b2b05cdc"
      },
      "cell_type": "code",
      "source": [
        "import matplotlib.pyplot as plt\n",
        "\n",
        "\n",
        "def plot_history(history):\n",
        "  plt.figure()\n",
        "  plt.xlabel('Epoch')\n",
        "  plt.ylabel('Mean Abs Error [1000$]')\n",
        "  plt.plot(history.epoch, np.array(history.history['mean_absolute_error']),\n",
        "           label='Train Loss')\n",
        "  plt.plot(history.epoch, np.array(history.history['val_mean_absolute_error']),\n",
        "           label = 'Val loss')\n",
        "  plt.legend()\n",
        "  plt.ylim([0, 5])\n",
        "\n",
        "plot_history(history)"
      ],
      "execution_count": 26,
      "outputs": [
        {
          "output_type": "display_data",
          "data": {
            "image/png": "[encoded data removed]",
            "text/plain": [
              "<matplotlib.figure.Figure at 0x7f2d88262cf8>"
            ]
          },
          "metadata": {
            "tags": []
          }
        }
      ]
    },
    {
      "metadata": {
        "id": "Ig7Jh7B6-APC",
        "colab_type": "code",
        "colab": {}
      },
      "cell_type": "code",
      "source": [
        "model=build_model()\n",
        "\n",
        "early=keras.callbacks.EarlyStopping(monitor=\"val_loss\",patience=20)\n",
        "history= model.fit(xtrain,ytrain,epochs=10000,validation_split=0.15,verbose=0,callbacks=[early])"
      ],
      "execution_count": 0,
      "outputs": []
    },
    {
      "metadata": {
        "id": "4_BY3NaC-cz9",
        "colab_type": "code",
        "colab": {
          "base_uri": "https://localhost:8080/",
          "height": 365
        },
        "outputId": "a043ccc2-b89d-4f14-8433-16fca954894f"
      },
      "cell_type": "code",
      "source": [
        "plot_history(history)"
      ],
      "execution_count": 28,
      "outputs": [
        {
          "output_type": "display_data",
          "data": {
            "image/png": "[encoded data removed]",
            "text/plain": [
              "<matplotlib.figure.Figure at 0x7f2d8827cef0>"
            ]
          },
          "metadata": {
            "tags": []
          }
        }
      ]
    },
    {
      "metadata": {
        "id": "uBJxQTq--hMc",
        "colab_type": "code",
        "colab": {
          "base_uri": "https://localhost:8080/",
          "height": 34
        },
        "outputId": "ab98052e-916a-41ce-d9e0-0b3c85584db4"
      },
      "cell_type": "code",
      "source": [
        "[loss,mae]=model.evaluate(xtest,ytest,verbose=0)\n",
        "print(mae*1000)"
      ],
      "execution_count": 33,
      "outputs": [
        {
          "output_type": "stream",
          "text": [
            "2554.517250435025\n"
          ],
          "name": "stdout"
        }
      ]
    },
    {
      "metadata": {
        "id": "RvdPZCNO-tZm",
        "colab_type": "code",
        "colab": {
          "base_uri": "https://localhost:8080/",
          "height": 361
        },
        "outputId": "0d66d2cb-1e31-42aa-a3e2-721f8e89f51b"
      },
      "cell_type": "code",
      "source": [
        "test_predictions = model.predict(xtest).flatten()\n",
        "\n",
        "plt.scatter(ytest, test_predictions)\n",
        "plt.xlabel('True Values [1000$]')\n",
        "plt.ylabel('Predictions [1000$]')\n",
        "plt.axis('equal')\n",
        "plt.xlim(plt.xlim())\n",
        "plt.ylim(plt.ylim())\n",
        "_ = plt.plot([-100, 100], [-100, 100])"
      ],
      "execution_count": 36,
      "outputs": [
        {
          "output_type": "display_data",
          "data": {
            "image/png": "[encoded data removed]",
            "text/plain": [
              "<matplotlib.figure.Figure at 0x7f2d853bca90>"
            ]
          },
          "metadata": {
            "tags": []
          }
        }
      ]
    },
    {
      "metadata": {
        "id": "ixMO4kbL-7-n",
        "colab_type": "code",
        "colab": {
          "base_uri": "https://localhost:8080/",
          "height": 361
        },
        "outputId": "f098febb-88c2-43cb-8f92-c27b41602bb3"
      },
      "cell_type": "code",
      "source": [
        "error = test_predictions - ytest\n",
        "plt.hist(error, bins = 50)\n",
        "plt.xlabel(\"Prediction Error [1000$]\")\n",
        "_ = plt.ylabel(\"Count\")"
      ],
      "execution_count": 38,
      "outputs": [
        {
          "output_type": "display_data",
          "data": {
            "image/png": "[encoded data removed]",
            "text/plain": [
              "<matplotlib.figure.Figure at 0x7f2d8538db38>"
            ]
          },
          "metadata": {
            "tags": []
          }
        }
      ]
    },
    {
      "metadata": {
        "id": "HmmV-toZ_BFe",
        "colab_type": "code",
        "colab": {}
      },
      "cell_type": "code",
      "source": [
        ""
      ],
      "execution_count": 0,
      "outputs": []
    }
  ]
}